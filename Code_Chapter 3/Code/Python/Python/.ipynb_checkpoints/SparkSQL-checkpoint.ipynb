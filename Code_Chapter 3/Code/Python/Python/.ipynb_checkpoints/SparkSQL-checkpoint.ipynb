{
 "cells": [
  {
   "cell_type": "code",
   "execution_count": 2,
   "metadata": {
    "collapsed": false
   },
   "outputs": [],
   "source": [
    "from pyspark.sql import Row\n",
    "acTransList = [\"SB10001,1000\", \"SB10002,1200\", \"SB10003,8000\", \"SB10004,400\", \"SB10005,300\", \"SB10006,10000\", \"SB10007,500\", \"SB10008,56\", \"SB10009,30\",\"SB10010,7000\", \"CR10001,7000\", \"SB10002,-10\"]\n",
    "acTransDF = sc.parallelize(acTransList).map(lambda trans: trans.split(\",\")).map(lambda p: Row(AccNo=p[0], TranAmount=float(p[1]))).toDF()\n",
    "acTransDF.registerTempTable(\"trans\")"
   ]
  },
  {
   "cell_type": "code",
   "execution_count": 3,
   "metadata": {
    "collapsed": false
   },
   "outputs": [
    {
     "name": "stdout",
     "output_type": "stream",
     "text": [
      "root\n",
      " |-- AccNo: string (nullable = true)\n",
      " |-- TranAmount: double (nullable = true)\n",
      "\n"
     ]
    }
   ],
   "source": [
    "acTransDF.printSchema()"
   ]
  },
  {
   "cell_type": "code",
   "execution_count": 4,
   "metadata": {
    "collapsed": false
   },
   "outputs": [
    {
     "name": "stdout",
     "output_type": "stream",
     "text": [
      "+-------+----------+\n",
      "|  AccNo|TranAmount|\n",
      "+-------+----------+\n",
      "|SB10001|    1000.0|\n",
      "|SB10002|    1200.0|\n",
      "|SB10003|    8000.0|\n",
      "|SB10004|     400.0|\n",
      "|SB10005|     300.0|\n",
      "|SB10006|   10000.0|\n",
      "|SB10007|     500.0|\n",
      "|SB10008|      56.0|\n",
      "|SB10009|      30.0|\n",
      "|SB10010|    7000.0|\n",
      "|CR10001|    7000.0|\n",
      "|SB10002|     -10.0|\n",
      "+-------+----------+\n",
      "\n"
     ]
    }
   ],
   "source": [
    "acTransDF.show()"
   ]
  },
  {
   "cell_type": "code",
   "execution_count": 14,
   "metadata": {
    "collapsed": false
   },
   "outputs": [
    {
     "name": "stdout",
     "output_type": "stream",
     "text": [
      "+-------+----------+\n",
      "|  AccNo|TranAmount|\n",
      "+-------+----------+\n",
      "|SB10001|    1000.0|\n",
      "|SB10002|    1200.0|\n",
      "|SB10003|    8000.0|\n",
      "|SB10004|     400.0|\n",
      "|SB10005|     300.0|\n",
      "|SB10006|   10000.0|\n",
      "|SB10007|     500.0|\n",
      "|SB10008|      56.0|\n",
      "|SB10009|      30.0|\n",
      "|SB10010|    7000.0|\n",
      "+-------+----------+\n",
      "\n"
     ]
    }
   ],
   "source": [
    "goodTransRecords = sqlContext.sql(\"SELECT AccNo, TranAmount FROM trans WHERE AccNo like 'SB%' AND TranAmount > 0\")\n",
    "goodTransRecords.registerTempTable(\"goodtrans\")\n",
    "goodTransRecords.show()"
   ]
  },
  {
   "cell_type": "code",
   "execution_count": 7,
   "metadata": {
    "collapsed": false
   },
   "outputs": [
    {
     "name": "stdout",
     "output_type": "stream",
     "text": [
      "+-------+----------+\n",
      "|  AccNo|TranAmount|\n",
      "+-------+----------+\n",
      "|SB10002|    1200.0|\n",
      "|SB10003|    8000.0|\n",
      "|SB10006|   10000.0|\n",
      "|SB10010|    7000.0|\n",
      "+-------+----------+\n",
      "\n"
     ]
    }
   ],
   "source": [
    "highValueTransRecords = sqlContext.sql(\"SELECT AccNo, TranAmount FROM goodtrans WHERE TranAmount > 1000\")\n",
    "highValueTransRecords.show()"
   ]
  },
  {
   "cell_type": "code",
   "execution_count": 8,
   "metadata": {
    "collapsed": false
   },
   "outputs": [
    {
     "name": "stdout",
     "output_type": "stream",
     "text": [
      "+-------+----------+\n",
      "|  AccNo|TranAmount|\n",
      "+-------+----------+\n",
      "|CR10001|    7000.0|\n",
      "+-------+----------+\n",
      "\n"
     ]
    }
   ],
   "source": [
    "badAccountRecords = sqlContext.sql(\"SELECT AccNo, TranAmount FROM trans WHERE AccNo NOT like 'SB%'\")\n",
    "badAccountRecords.show()"
   ]
  },
  {
   "cell_type": "code",
   "execution_count": 9,
   "metadata": {
    "collapsed": false
   },
   "outputs": [
    {
     "name": "stdout",
     "output_type": "stream",
     "text": [
      "+-------+----------+\n",
      "|  AccNo|TranAmount|\n",
      "+-------+----------+\n",
      "|SB10002|     -10.0|\n",
      "+-------+----------+\n",
      "\n"
     ]
    }
   ],
   "source": [
    "badAmountRecords = sqlContext.sql(\"SELECT AccNo, TranAmount FROM trans WHERE TranAmount < 0\")\n",
    "badAmountRecords.show()"
   ]
  },
  {
   "cell_type": "code",
   "execution_count": 10,
   "metadata": {
    "collapsed": false
   },
   "outputs": [
    {
     "name": "stdout",
     "output_type": "stream",
     "text": [
      "+-------+----------+\n",
      "|  AccNo|TranAmount|\n",
      "+-------+----------+\n",
      "|CR10001|    7000.0|\n",
      "|SB10002|     -10.0|\n",
      "+-------+----------+\n",
      "\n"
     ]
    }
   ],
   "source": [
    "badTransRecords = badAccountRecords.unionAll(badAmountRecords)\n",
    "badTransRecords.show()"
   ]
  },
  {
   "cell_type": "code",
   "execution_count": 11,
   "metadata": {
    "collapsed": false
   },
   "outputs": [
    {
     "name": "stdout",
     "output_type": "stream",
     "text": [
      "+-------+\n",
      "|    sum|\n",
      "+-------+\n",
      "|28486.0|\n",
      "+-------+\n",
      "\n"
     ]
    }
   ],
   "source": [
    "sumAmount = sqlContext.sql(\"SELECT sum(TranAmount)as sum FROM goodtrans\")\n",
    "sumAmount.show()"
   ]
  },
  {
   "cell_type": "code",
   "execution_count": 12,
   "metadata": {
    "collapsed": false
   },
   "outputs": [
    {
     "name": "stdout",
     "output_type": "stream",
     "text": [
      "+-------+\n",
      "|    max|\n",
      "+-------+\n",
      "|10000.0|\n",
      "+-------+\n",
      "\n"
     ]
    }
   ],
   "source": [
    "maxAmount = sqlContext.sql(\"SELECT max(TranAmount) as max FROM goodtrans\")\n",
    "maxAmount.show()"
   ]
  },
  {
   "cell_type": "code",
   "execution_count": 13,
   "metadata": {
    "collapsed": false
   },
   "outputs": [
    {
     "name": "stdout",
     "output_type": "stream",
     "text": [
      "+----+\n",
      "| min|\n",
      "+----+\n",
      "|30.0|\n",
      "+----+\n",
      "\n"
     ]
    }
   ],
   "source": [
    "minAmount = sqlContext.sql(\"SELECT min(TranAmount)as min FROM goodtrans\")\n",
    "minAmount.show()"
   ]
  },
  {
   "cell_type": "code",
   "execution_count": 15,
   "metadata": {
    "collapsed": false
   },
   "outputs": [
    {
     "name": "stdout",
     "output_type": "stream",
     "text": [
      "+-------+\n",
      "|  AccNo|\n",
      "+-------+\n",
      "|SB10001|\n",
      "|SB10002|\n",
      "|SB10003|\n",
      "|SB10004|\n",
      "|SB10005|\n",
      "|SB10006|\n",
      "|SB10007|\n",
      "|SB10008|\n",
      "|SB10009|\n",
      "|SB10010|\n",
      "+-------+\n",
      "\n"
     ]
    }
   ],
   "source": [
    "goodAccNos = sqlContext.sql(\"SELECT DISTINCT AccNo FROM trans WHERE AccNo like 'SB%' ORDER BY AccNo\")\n",
    "goodAccNos.show()"
   ]
  },
  {
   "cell_type": "code",
   "execution_count": 16,
   "metadata": {
    "collapsed": false
   },
   "outputs": [
    {
     "data": {
      "text/plain": [
       "28486.0"
      ]
     },
     "execution_count": 16,
     "metadata": {},
     "output_type": "execute_result"
    }
   ],
   "source": [
    "sumAmountByMixing = goodTransRecords.map(lambda trans: trans.TranAmount).reduce(lambda a,b : a+b)\n",
    "sumAmountByMixing"
   ]
  },
  {
   "cell_type": "code",
   "execution_count": 17,
   "metadata": {
    "collapsed": false
   },
   "outputs": [
    {
     "data": {
      "text/plain": [
       "10000.0"
      ]
     },
     "execution_count": 17,
     "metadata": {},
     "output_type": "execute_result"
    }
   ],
   "source": [
    "maxAmountByMixing = goodTransRecords.map(lambda trans: trans.TranAmount).reduce(lambda a,b : a if a > b else b)\n",
    "maxAmountByMixing"
   ]
  },
  {
   "cell_type": "code",
   "execution_count": 18,
   "metadata": {
    "collapsed": false
   },
   "outputs": [
    {
     "data": {
      "text/plain": [
       "30.0"
      ]
     },
     "execution_count": 18,
     "metadata": {},
     "output_type": "execute_result"
    }
   ],
   "source": [
    "minAmountByMixing = goodTransRecords.map(lambda trans: trans.TranAmount).reduce(lambda a,b : a if a < b else b)\n",
    "minAmountByMixing"
   ]
  },
  {
   "cell_type": "code",
   "execution_count": 19,
   "metadata": {
    "collapsed": false
   },
   "outputs": [
    {
     "name": "stdout",
     "output_type": "stream",
     "text": [
      "+-------+----------+\n",
      "|  AccNo|TranAmount|\n",
      "+-------+----------+\n",
      "|SB10001|    1000.0|\n",
      "|SB10002|    1200.0|\n",
      "|SB10003|    8000.0|\n",
      "|SB10004|     400.0|\n",
      "|SB10005|     300.0|\n",
      "|SB10006|   10000.0|\n",
      "|SB10007|     500.0|\n",
      "|SB10008|      56.0|\n",
      "|SB10009|      30.0|\n",
      "|SB10010|    7000.0|\n",
      "|CR10001|    7000.0|\n",
      "|SB10002|     -10.0|\n",
      "+-------+----------+\n",
      "\n"
     ]
    }
   ],
   "source": [
    "acTransDF.show()"
   ]
  },
  {
   "cell_type": "code",
   "execution_count": 20,
   "metadata": {
    "collapsed": false
   },
   "outputs": [
    {
     "name": "stdout",
     "output_type": "stream",
     "text": [
      "root\n",
      " |-- AccNo: string (nullable = true)\n",
      " |-- TranAmount: double (nullable = true)\n",
      "\n"
     ]
    }
   ],
   "source": [
    "acTransDF.printSchema()"
   ]
  },
  {
   "cell_type": "code",
   "execution_count": 21,
   "metadata": {
    "collapsed": false
   },
   "outputs": [
    {
     "name": "stdout",
     "output_type": "stream",
     "text": [
      "+-------+----------+\n",
      "|  AccNo|TranAmount|\n",
      "+-------+----------+\n",
      "|SB10001|    1000.0|\n",
      "|SB10002|    1200.0|\n",
      "|SB10003|    8000.0|\n",
      "|SB10004|     400.0|\n",
      "|SB10005|     300.0|\n",
      "|SB10006|   10000.0|\n",
      "|SB10007|     500.0|\n",
      "|SB10008|      56.0|\n",
      "|SB10009|      30.0|\n",
      "|SB10010|    7000.0|\n",
      "+-------+----------+\n",
      "\n"
     ]
    }
   ],
   "source": [
    "goodTransRecords = acTransDF.filter(\"AccNo like 'SB%'\").filter(\"TranAmount > 0\")\n",
    "goodTransRecords.show()"
   ]
  },
  {
   "cell_type": "code",
   "execution_count": 22,
   "metadata": {
    "collapsed": false
   },
   "outputs": [
    {
     "name": "stdout",
     "output_type": "stream",
     "text": [
      "+-------+----------+\n",
      "|  AccNo|TranAmount|\n",
      "+-------+----------+\n",
      "|SB10002|    1200.0|\n",
      "|SB10003|    8000.0|\n",
      "|SB10006|   10000.0|\n",
      "|SB10010|    7000.0|\n",
      "+-------+----------+\n",
      "\n"
     ]
    }
   ],
   "source": [
    "highValueTransRecords = goodTransRecords.filter(\"TranAmount > 1000\")\n",
    "highValueTransRecords.show()"
   ]
  },
  {
   "cell_type": "code",
   "execution_count": 23,
   "metadata": {
    "collapsed": false
   },
   "outputs": [
    {
     "name": "stdout",
     "output_type": "stream",
     "text": [
      "+-------+----------+\n",
      "|  AccNo|TranAmount|\n",
      "+-------+----------+\n",
      "|CR10001|    7000.0|\n",
      "+-------+----------+\n",
      "\n"
     ]
    }
   ],
   "source": [
    "badAccountRecords = acTransDF.filter(\"AccNo NOT like 'SB%'\")\n",
    "badAccountRecords.show()"
   ]
  },
  {
   "cell_type": "code",
   "execution_count": 24,
   "metadata": {
    "collapsed": false
   },
   "outputs": [
    {
     "name": "stdout",
     "output_type": "stream",
     "text": [
      "+-------+----------+\n",
      "|  AccNo|TranAmount|\n",
      "+-------+----------+\n",
      "|SB10002|     -10.0|\n",
      "+-------+----------+\n",
      "\n"
     ]
    }
   ],
   "source": [
    "badAmountRecords = acTransDF.filter(\"TranAmount < 0\")\n",
    "badAmountRecords.show()"
   ]
  },
  {
   "cell_type": "code",
   "execution_count": 25,
   "metadata": {
    "collapsed": false
   },
   "outputs": [
    {
     "name": "stdout",
     "output_type": "stream",
     "text": [
      "+-------+----------+\n",
      "|  AccNo|TranAmount|\n",
      "+-------+----------+\n",
      "|CR10001|    7000.0|\n",
      "|SB10002|     -10.0|\n",
      "+-------+----------+\n",
      "\n"
     ]
    }
   ],
   "source": [
    "badTransRecords = badAccountRecords.unionAll(badAmountRecords)\n",
    "badTransRecords.show()"
   ]
  },
  {
   "cell_type": "code",
   "execution_count": 26,
   "metadata": {
    "collapsed": false
   },
   "outputs": [
    {
     "name": "stdout",
     "output_type": "stream",
     "text": [
      "+---------------+\n",
      "|sum(TranAmount)|\n",
      "+---------------+\n",
      "|        28486.0|\n",
      "+---------------+\n",
      "\n"
     ]
    }
   ],
   "source": [
    "sumAmount = goodTransRecords.agg({\"TranAmount\": \"sum\"})\n",
    "sumAmount.show()"
   ]
  },
  {
   "cell_type": "code",
   "execution_count": 27,
   "metadata": {
    "collapsed": false
   },
   "outputs": [
    {
     "name": "stdout",
     "output_type": "stream",
     "text": [
      "+---------------+\n",
      "|max(TranAmount)|\n",
      "+---------------+\n",
      "|        10000.0|\n",
      "+---------------+\n",
      "\n"
     ]
    }
   ],
   "source": [
    "maxAmount = goodTransRecords.agg({\"TranAmount\": \"max\"})\n",
    "maxAmount.show()"
   ]
  },
  {
   "cell_type": "code",
   "execution_count": 28,
   "metadata": {
    "collapsed": false
   },
   "outputs": [
    {
     "name": "stdout",
     "output_type": "stream",
     "text": [
      "+---------------+\n",
      "|min(TranAmount)|\n",
      "+---------------+\n",
      "|           30.0|\n",
      "+---------------+\n",
      "\n"
     ]
    }
   ],
   "source": [
    "minAmount = goodTransRecords.agg({\"TranAmount\": \"min\"})\n",
    "minAmount.show()"
   ]
  },
  {
   "cell_type": "code",
   "execution_count": 29,
   "metadata": {
    "collapsed": false
   },
   "outputs": [
    {
     "name": "stdout",
     "output_type": "stream",
     "text": [
      "+-------+\n",
      "|  AccNo|\n",
      "+-------+\n",
      "|SB10001|\n",
      "|SB10002|\n",
      "|SB10003|\n",
      "|SB10004|\n",
      "|SB10005|\n",
      "|SB10006|\n",
      "|SB10007|\n",
      "|SB10008|\n",
      "|SB10009|\n",
      "|SB10010|\n",
      "+-------+\n",
      "\n"
     ]
    }
   ],
   "source": [
    "goodAccNos = acTransDF.filter(\"AccNo like 'SB%'\").select(\"AccNo\").distinct().orderBy(\"AccNo\")\n",
    "goodAccNos.show()"
   ]
  },
  {
   "cell_type": "code",
   "execution_count": 30,
   "metadata": {
    "collapsed": true
   },
   "outputs": [],
   "source": [
    "acTransDF.write.parquet(\"python.trans.parquet\")"
   ]
  },
  {
   "cell_type": "code",
   "execution_count": 31,
   "metadata": {
    "collapsed": true
   },
   "outputs": [],
   "source": [
    "acTransDFfromParquet = sqlContext.read.parquet(\"python.trans.parquet\")"
   ]
  },
  {
   "cell_type": "code",
   "execution_count": 32,
   "metadata": {
    "collapsed": false
   },
   "outputs": [
    {
     "name": "stdout",
     "output_type": "stream",
     "text": [
      "+-------+----------+\n",
      "|  AccNo|TranAmount|\n",
      "+-------+----------+\n",
      "|SB10008|      56.0|\n",
      "|SB10009|      30.0|\n",
      "|SB10001|    1000.0|\n",
      "|SB10007|     500.0|\n",
      "|CR10001|    7000.0|\n",
      "|SB10002|     -10.0|\n",
      "|SB10004|     400.0|\n",
      "|SB10010|    7000.0|\n",
      "|SB10005|     300.0|\n",
      "|SB10006|   10000.0|\n",
      "|SB10002|    1200.0|\n",
      "|SB10003|    8000.0|\n",
      "+-------+----------+\n",
      "\n"
     ]
    }
   ],
   "source": [
    "acTransDFfromParquet.show()"
   ]
  },
  {
   "cell_type": "code",
   "execution_count": 33,
   "metadata": {
    "collapsed": true
   },
   "outputs": [],
   "source": [
    "from pyspark.sql import Row"
   ]
  },
  {
   "cell_type": "code",
   "execution_count": 34,
   "metadata": {
    "collapsed": false
   },
   "outputs": [
    {
     "name": "stdout",
     "output_type": "stream",
     "text": [
      "+-------+----------+\n",
      "|  AccNo|TransTotal|\n",
      "+-------+----------+\n",
      "|SB10001|   18900.0|\n",
      "|SB10002|    8590.0|\n",
      "|SB10003|     330.0|\n",
      "|SB10004|     500.0|\n",
      "|SB10005|      56.0|\n",
      "+-------+----------+\n",
      "\n"
     ]
    }
   ],
   "source": [
    "acTransList = [\"SB10001,1000\", \"SB10002,1200\", \"SB10001,8000\",\"SB10002,400\", \"SB10003,300\", \"SB10001,10000\",\"SB10004,500\",\"SB10005,56\",\"SB10003,30\",\"SB10002,7000\", \"SB10001,-100\",\"SB10002,-10\"]\n",
    "acTransDF = sc.parallelize(acTransList).map(lambda trans: trans.split(\",\")).map(lambda p: Row(AccNo=p[0], TranAmount=float(p[1]))).toDF()\n",
    "acTransDF.registerTempTable(\"trans\")\n",
    "acSummary = sqlContext.sql(\"SELECT AccNo, sum(TranAmount) as TransTotal FROM trans GROUP BY AccNo\")\n",
    "acSummary.show()    "
   ]
  },
  {
   "cell_type": "code",
   "execution_count": 35,
   "metadata": {
    "collapsed": false
   },
   "outputs": [
    {
     "name": "stdout",
     "output_type": "stream",
     "text": [
      "+-------+----------+\n",
      "|  AccNo|TransTotal|\n",
      "+-------+----------+\n",
      "|SB10001|   18900.0|\n",
      "|SB10002|    8590.0|\n",
      "|SB10003|     330.0|\n",
      "|SB10004|     500.0|\n",
      "|SB10005|      56.0|\n",
      "+-------+----------+\n",
      "\n"
     ]
    }
   ],
   "source": [
    "acSummaryViaDFAPI = acTransDF.groupBy(\"AccNo\").agg({\"TranAmount\": \"sum\"}).selectExpr(\"AccNo\", \"`sum(TranAmount)` as TransTotal\")\n",
    "acSummaryViaDFAPI.show()"
   ]
  },
  {
   "cell_type": "code",
   "execution_count": 36,
   "metadata": {
    "collapsed": false
   },
   "outputs": [
    {
     "name": "stdout",
     "output_type": "stream",
     "text": [
      "+-------+---------+--------+\n",
      "|  AccNo|FirstName|LastName|\n",
      "+-------+---------+--------+\n",
      "|SB10002|     Pete| Sampras|\n",
      "|SB10004|    Boris|  Becker|\n",
      "|SB10003|   Rafael|   Nadal|\n",
      "|SB10001|    Roger| Federer|\n",
      "|SB10005|     Ivan|   Lendl|\n",
      "+-------+---------+--------+\n",
      "\n"
     ]
    }
   ],
   "source": [
    "AcMaster = Row('AccNo', 'FirstName', 'LastName')\n",
    "AcBal = Row('AccNo', 'BalAmount')\n",
    "acMasterList = [\"SB10001,Roger,Federer\",\"SB10002,Pete,Sampras\", \"SB10003,Rafael,Nadal\",\"SB10004,Boris,Becker\", \"SB10005,Ivan,Lendl\"]\n",
    "acBalList = [\"SB10001,50000\", \"SB10002,12000\",\"SB10003,3000\", \"SB10004,8500\", \"SB10005,5000\"]\n",
    "acMasterDF = sc.parallelize(acMasterList).map(lambda trans: trans.split(\",\")).map(lambda r: AcMaster(*r)).toDF()\n",
    "acBalDF = sc.parallelize(acBalList).map(lambda trans: trans.split(\",\")).map(lambda r: AcBal(r[0], float(r[1]))).toDF()\n",
    "acMasterDF.write.parquet(\"python.master.parquet\")\n",
    "acBalDF.write.json(\"pythonMaster.json\")\n",
    "acMasterDFFromFile = sqlContext.read.parquet(\"python.master.parquet\")\n",
    "acMasterDFFromFile.registerTempTable(\"master\")\n",
    "acBalDFFromFile = sqlContext.read.json(\"pythonMaster.json\")\n",
    "acBalDFFromFile.registerTempTable(\"balance\")\n",
    "acMasterDFFromFile.show()"
   ]
  },
  {
   "cell_type": "code",
   "execution_count": 37,
   "metadata": {
    "collapsed": false
   },
   "outputs": [
    {
     "name": "stdout",
     "output_type": "stream",
     "text": [
      "+-------+---------+\n",
      "|  AccNo|BalAmount|\n",
      "+-------+---------+\n",
      "|SB10004|   8500.0|\n",
      "|SB10001|  50000.0|\n",
      "|SB10002|  12000.0|\n",
      "|SB10003|   3000.0|\n",
      "|SB10005|   5000.0|\n",
      "+-------+---------+\n",
      "\n"
     ]
    }
   ],
   "source": [
    "acBalDFFromFile.show()"
   ]
  },
  {
   "cell_type": "code",
   "execution_count": 38,
   "metadata": {
    "collapsed": false
   },
   "outputs": [
    {
     "name": "stdout",
     "output_type": "stream",
     "text": [
      "+-------+---------+--------+---------+\n",
      "|  AccNo|FirstName|LastName|BalAmount|\n",
      "+-------+---------+--------+---------+\n",
      "|SB10001|    Roger| Federer|  50000.0|\n",
      "|SB10002|     Pete| Sampras|  12000.0|\n",
      "|SB10004|    Boris|  Becker|   8500.0|\n",
      "|SB10005|     Ivan|   Lendl|   5000.0|\n",
      "|SB10003|   Rafael|   Nadal|   3000.0|\n",
      "+-------+---------+--------+---------+\n",
      "\n"
     ]
    }
   ],
   "source": [
    "acDetail = sqlContext.sql(\"SELECT master.AccNo, FirstName, LastName, BalAmount FROM master, balance WHERE master.AccNo = balance.AccNo ORDER BY BalAmount DESC\")\n",
    "acDetail.show()"
   ]
  },
  {
   "cell_type": "code",
   "execution_count": 39,
   "metadata": {
    "collapsed": false
   },
   "outputs": [
    {
     "name": "stdout",
     "output_type": "stream",
     "text": [
      "+-------+---------+--------+---------+\n",
      "|  AccNo|FirstName|LastName|BalAmount|\n",
      "+-------+---------+--------+---------+\n",
      "|SB10001|    Roger| Federer|  50000.0|\n",
      "|SB10002|     Pete| Sampras|  12000.0|\n",
      "|SB10004|    Boris|  Becker|   8500.0|\n",
      "|SB10005|     Ivan|   Lendl|   5000.0|\n",
      "|SB10003|   Rafael|   Nadal|   3000.0|\n",
      "+-------+---------+--------+---------+\n",
      "\n"
     ]
    }
   ],
   "source": [
    "acDetailFromAPI = acMasterDFFromFile.join(acBalDFFromFile, acMasterDFFromFile.AccNo == acBalDFFromFile.AccNo).sort(acBalDFFromFile.BalAmount, ascending=False).select(acMasterDFFromFile.AccNo, acMasterDFFromFile.FirstName, acMasterDFFromFile.LastName, acBalDFFromFile.BalAmount)\n",
    "acDetailFromAPI.show()"
   ]
  },
  {
   "cell_type": "code",
   "execution_count": 40,
   "metadata": {
    "collapsed": false
   },
   "outputs": [
    {
     "name": "stdout",
     "output_type": "stream",
     "text": [
      "+-------+---------+--------+---------+\n",
      "|  AccNo|FirstName|LastName|BalAmount|\n",
      "+-------+---------+--------+---------+\n",
      "|SB10001|    Roger| Federer|  50000.0|\n",
      "|SB10002|     Pete| Sampras|  12000.0|\n",
      "|SB10004|    Boris|  Becker|   8500.0|\n",
      "+-------+---------+--------+---------+\n",
      "\n"
     ]
    }
   ],
   "source": [
    "acDetailTop3 = sqlContext.sql(\"SELECT master.AccNo, FirstName, LastName, BalAmount FROM master, balance WHERE master.AccNo = balance.AccNo ORDER BY BalAmount DESC\").limit(3)\n",
    "acDetailTop3.show()"
   ]
  },
  {
   "cell_type": "code",
   "execution_count": null,
   "metadata": {
    "collapsed": true
   },
   "outputs": [],
   "source": []
  }
 ],
 "metadata": {
  "kernelspec": {
   "display_name": "Python 3",
   "language": "python",
   "name": "python3"
  },
  "language_info": {
   "codemirror_mode": {
    "name": "ipython",
    "version": 3
   },
   "file_extension": ".py",
   "mimetype": "text/x-python",
   "name": "python",
   "nbconvert_exporter": "python",
   "pygments_lexer": "ipython3",
   "version": "3.5.0"
  }
 },
 "nbformat": 4,
 "nbformat_minor": 0
}
