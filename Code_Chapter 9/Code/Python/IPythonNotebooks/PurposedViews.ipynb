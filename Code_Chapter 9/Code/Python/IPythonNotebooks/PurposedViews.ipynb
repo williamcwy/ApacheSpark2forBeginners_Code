{
 "cells": [
  {
   "cell_type": "code",
   "execution_count": 31,
   "metadata": {
    "collapsed": false
   },
   "outputs": [],
   "source": [
    "from pyspark.sql import Row\n",
    "#TODO: Change the following directory to point to your data directory\n",
    "dataDir = \"/Users/RajT/Documents/Writing/SparkForBeginners/To-PACKTPUB/Contents/B05289-09-DesigningSparkApplications/Code/Data/\""
   ]
  },
  {
   "cell_type": "code",
   "execution_count": 32,
   "metadata": {
    "collapsed": false
   },
   "outputs": [
    {
     "name": "stdout",
     "output_type": "stream",
     "text": [
      "+----------------+--------------------+---------+---+--------+--------------+--------+\n",
      "|  AlternateEmail|               EMail|FirstName| Id|LastName|         Phone|UserName|\n",
      "+----------------+--------------------+---------+---+--------+--------------+--------+\n",
      "|mt12@example.com| mthomas@example.com|     Mark|  1|  Thomas|+4411860297701| mthomas|\n",
      "| mit@example.com|mithomas@example.com|  Michael|  2|  Thomas|+4411860297702|mithomas|\n",
      "| mtw@example.com|  mtwain@example.com|     Mark|  3|   Twain|+4411860297703|  mtwain|\n",
      "|  th@example.com|  thardy@example.com|   Thomas|  4|   Hardy|+4411860297704|  thardy|\n",
      "|  bb@example.com| wbryson@example.com|  William|  5|  Bryson|+4411860297705| wbryson|\n",
      "|  wb@example.com|   wbrad@example.com|  William|  6|Bradford|+4411860297706|   wbrad|\n",
      "|  eh@example.com| eharris@example.com|       Ed|  7|  Harris|+4411860297707| eharris|\n",
      "|  tk@example.com|   tcook@example.com|   Thomas|  8|    Cook|+4411860297708|   tcook|\n",
      "|  ar@example.com| arobert@example.com|     Adam|  9|  Robert|+4411860297709| arobert|\n",
      "|  jj@example.com|  jjames@example.com|    Jacob| 10|   James|+4411860297710|  jjames|\n",
      "+----------------+--------------------+---------+---+--------+--------------+--------+\n",
      "\n"
     ]
    }
   ],
   "source": [
    "#Load the user data into an RDD\n",
    "userDataRDD = sc.textFile(dataDir + \"user.txt\").map(lambda line: line.split(\"|\")).map(lambda p: Row(Id=int(p[0]), UserName=p[1], FirstName=p[2], LastName=p[3], EMail=p[4], AlternateEmail=p[5], Phone=p[6]))\n",
    "#Convert the RDD into data frame\n",
    "userDataDF = userDataRDD.toDF()\n",
    "userDataDF.createOrReplaceTempView(\"user\")\n",
    "userDataDF.show()"
   ]
  },
  {
   "cell_type": "code",
   "execution_count": 33,
   "metadata": {
    "collapsed": false
   },
   "outputs": [
    {
     "name": "stdout",
     "output_type": "stream",
     "text": [
      "+--------+--------+\n",
      "|Followed|Follower|\n",
      "+--------+--------+\n",
      "|mithomas| mthomas|\n",
      "|  mtwain| mthomas|\n",
      "| wbryson|  thardy|\n",
      "| wbryson|   wbrad|\n",
      "| mthomas| eharris|\n",
      "|   tcook| eharris|\n",
      "|  jjames| arobert|\n",
      "+--------+--------+\n",
      "\n"
     ]
    }
   ],
   "source": [
    "#Load the follower data into an RDD\n",
    "followerDataRDD = sc.textFile(dataDir + \"follower.txt\").map(lambda line: line.split(\"|\")).map(lambda p: Row(Follower=p[0], Followed=p[1]))\n",
    "#Convert the RDD into data frame\n",
    "followerDataDF = followerDataRDD.toDF()\n",
    "followerDataDF.createOrReplaceTempView(\"follow\")\n",
    "followerDataDF.show()"
   ]
  },
  {
   "cell_type": "code",
   "execution_count": 34,
   "metadata": {
    "collapsed": false
   },
   "outputs": [
    {
     "name": "stdout",
     "output_type": "stream",
     "text": [
      "+---------+--------------------+----------+--------+\n",
      "|MessageId|        ShortMessage| Timestamp|UserName|\n",
      "+---------+--------------------+----------+--------+\n",
      "|        1|@mithomas Your po...|1459009608| mthomas|\n",
      "|        2|Feeling awesome t...|1459010608| mthomas|\n",
      "|        3|My namesake in th...|1459010776|  mtwain|\n",
      "|        4|Started the day w...|1459011016|  mtwain|\n",
      "|        5|It is just spring...|1459011199|  thardy|\n",
      "|        6|Some days are rea...|1459011256| wbryson|\n",
      "|        7|@wbryson Stuff ha...|1459011333|   wbrad|\n",
      "|        8|Anybody knows goo...|1459011426| eharris|\n",
      "|        9|Stock market is p...|1459011483|   tcook|\n",
      "|       10|Dont do day tradi...|1459011539|   tcook|\n",
      "|       11|I have never hear...|1459011622|   tcook|\n",
      "|       12|#Barcelona has pl...|1459157132|   wbrad|\n",
      "|       13|@wbryson It is go...|1459164906|  mtwain|\n",
      "+---------+--------------------+----------+--------+\n",
      "\n"
     ]
    }
   ],
   "source": [
    "#Load the message data into an RDD\n",
    "messageDataRDD = sc.textFile(dataDir + \"message.txt\").map(lambda line: line.split(\"|\")).map(lambda p: Row(UserName=p[0], MessageId=int(p[1]), ShortMessage=p[2], Timestamp=int(p[3])))\n",
    "#Convert the RDD into data frame\n",
    "messageDataDF = messageDataRDD.toDF()\n",
    "messageDataDF.createOrReplaceTempView(\"message\")\n",
    "messageDataDF.show()"
   ]
  },
  {
   "cell_type": "code",
   "execution_count": 35,
   "metadata": {
    "collapsed": false
   },
   "outputs": [
    {
     "name": "stdout",
     "output_type": "stream",
     "text": [
      "+------------+---------+--------------------+----------+----------+\n",
      "|FromUserName|MessageId|        ShortMessage| Timestamp|ToUserName|\n",
      "+------------+---------+--------------------+----------+----------+\n",
      "|     mthomas|        1|@mithomas Your po...|1459009608|  mithomas|\n",
      "|       wbrad|        7|@wbryson Stuff ha...|1459011333|   wbryson|\n",
      "|      mtwain|       13|@wbryson It is go...|1459164906|   wbryson|\n",
      "+------------+---------+--------------------+----------+----------+\n",
      "\n"
     ]
    }
   ],
   "source": [
    "#Create the purposed view of the message to users\n",
    "messagetoUsersRDD = messageDataRDD.filter(lambda message: \"@\" in message.ShortMessage).map(lambda message : (message, \" \".join(filter(lambda s: s[0] == '@', message.ShortMessage.split(\" \"))))).map(lambda msgTuple: Row(FromUserName=msgTuple[0].UserName, ToUserName=msgTuple[1][1:], MessageId=msgTuple[0].MessageId, ShortMessage=msgTuple[0].ShortMessage, Timestamp=msgTuple[0].Timestamp))\n",
    "#Convert the RDD into data frame\n",
    "messagetoUsersDF = messagetoUsersRDD.toDF()\n",
    "messagetoUsersDF.createOrReplaceTempView(\"messageToUsers\")\n",
    "messagetoUsersDF.show()"
   ]
  },
  {
   "cell_type": "code",
   "execution_count": 36,
   "metadata": {
    "collapsed": false
   },
   "outputs": [
    {
     "name": "stdout",
     "output_type": "stream",
     "text": [
      "+----------+---------+--------------------+----------+--------+\n",
      "|   HashTag|MessageId|        ShortMessage| Timestamp|UserName|\n",
      "+----------+---------+--------------------+----------+--------+\n",
      "|#Barcelona|        8|Anybody knows goo...|1459011426| eharris|\n",
      "|#Barcelona|       12|#Barcelona has pl...|1459157132|   wbrad|\n",
      "+----------+---------+--------------------+----------+--------+\n",
      "\n"
     ]
    }
   ],
   "source": [
    "#Create the purposed view of tagged messages \n",
    "taggedMessageRDD = messageDataRDD.filter(lambda message: \"#\" in message.ShortMessage).map(lambda message : (message, \" \".join(filter(lambda s: s[0] == '#', message.ShortMessage.split(\" \"))))).map(lambda msgTuple: Row(HashTag=msgTuple[1], UserName=msgTuple[0].UserName, MessageId=msgTuple[0].MessageId, ShortMessage=msgTuple[0].ShortMessage, Timestamp=msgTuple[0].Timestamp))\n",
    "#Convert the RDD into data frame\n",
    "taggedMessageDF = taggedMessageRDD.toDF()\n",
    "taggedMessageDF.createOrReplaceTempView(\"taggedMessages\")\n",
    "taggedMessageDF.show()"
   ]
  },
  {
   "cell_type": "code",
   "execution_count": 37,
   "metadata": {
    "collapsed": false
   },
   "outputs": [
    {
     "name": "stdout",
     "output_type": "stream",
     "text": [
      "+--------+---------+--------+---------+--------------------+----------+\n",
      "|UserName|FirstName|LastName|MessageId|        ShortMessage| Timestamp|\n",
      "+--------+---------+--------+---------+--------------------+----------+\n",
      "| eharris|       Ed|  Harris|        8|Anybody knows goo...|1459011426|\n",
      "|   wbrad|  William|Bradford|       12|#Barcelona has pl...|1459157132|\n",
      "+--------+---------+--------+---------+--------------------+----------+\n",
      "\n"
     ]
    }
   ],
   "source": [
    "#The following are the queries given in the use cases\n",
    "#Find the messages that are grouped by a given hash tag\n",
    "byHashTag = spark.sql(\"SELECT a.UserName, b.FirstName, b.LastName, a.MessageId, a.ShortMessage, a.Timestamp FROM taggedMessages a, user b WHERE a.UserName = b.UserName AND HashTag = '#Barcelona' ORDER BY a.Timestamp\")\n",
    "byHashTag.show()"
   ]
  },
  {
   "cell_type": "code",
   "execution_count": 38,
   "metadata": {
    "collapsed": false
   },
   "outputs": [
    {
     "name": "stdout",
     "output_type": "stream",
     "text": [
      "+------------+----------+---------+--------------------+----------+\n",
      "|FromUserName|ToUserName|MessageId|        ShortMessage| Timestamp|\n",
      "+------------+----------+---------+--------------------+----------+\n",
      "|       wbrad|   wbryson|        7|@wbryson Stuff ha...|1459011333|\n",
      "|      mtwain|   wbryson|       13|@wbryson It is go...|1459164906|\n",
      "+------------+----------+---------+--------------------+----------+\n",
      "\n"
     ]
    }
   ],
   "source": [
    "#Find the messages that are addressed to a given user\n",
    "byToUser = spark.sql(\"SELECT FromUserName, ToUserName, MessageId, ShortMessage, Timestamp FROM messageToUsers WHERE ToUserName = 'wbryson' ORDER BY Timestamp\")\n",
    "byToUser.show()"
   ]
  },
  {
   "cell_type": "code",
   "execution_count": 39,
   "metadata": {
    "collapsed": false
   },
   "outputs": [
    {
     "name": "stdout",
     "output_type": "stream",
     "text": [
      "+-----------------+----------------+--------+\n",
      "|FollowerFirstName|FollowerLastName|Followed|\n",
      "+-----------------+----------------+--------+\n",
      "|          William|        Bradford| wbryson|\n",
      "|           Thomas|           Hardy| wbryson|\n",
      "+-----------------+----------------+--------+\n",
      "\n"
     ]
    }
   ],
   "source": [
    "#Find the followers of a given user\n",
    "followers = spark.sql(\"SELECT b.FirstName as FollowerFirstName, b.LastName as FollowerLastName, a.Followed FROM follow a, user b WHERE a.Follower = b.UserName AND a.Followed = 'wbryson'\")\n",
    "followers.show()"
   ]
  },
  {
   "cell_type": "code",
   "execution_count": 40,
   "metadata": {
    "collapsed": false
   },
   "outputs": [
    {
     "name": "stdout",
     "output_type": "stream",
     "text": [
      "+-----------------+----------------+--------+\n",
      "|FollowedFirstName|FollowedLastName|Follower|\n",
      "+-----------------+----------------+--------+\n",
      "|           Thomas|            Cook| eharris|\n",
      "|             Mark|          Thomas| eharris|\n",
      "+-----------------+----------------+--------+\n",
      "\n"
     ]
    }
   ],
   "source": [
    "#Find the followed users of a given user\n",
    "followedUsers = spark.sql(\"SELECT b.FirstName as FollowedFirstName, b.LastName as FollowedLastName, a.Follower FROM follow a, user b WHERE a.Followed = b.UserName AND a.Follower = 'eharris'\")\n",
    "followedUsers.show()"
   ]
  },
  {
   "cell_type": "code",
   "execution_count": null,
   "metadata": {
    "collapsed": true
   },
   "outputs": [],
   "source": []
  }
 ],
 "metadata": {
  "kernelspec": {
   "display_name": "Python 3",
   "language": "python",
   "name": "python3"
  },
  "language_info": {
   "codemirror_mode": {
    "name": "ipython",
    "version": 3
   },
   "file_extension": ".py",
   "mimetype": "text/x-python",
   "name": "python",
   "nbconvert_exporter": "python",
   "pygments_lexer": "ipython3",
   "version": "3.5.0"
  }
 },
 "nbformat": 4,
 "nbformat_minor": 0
}
