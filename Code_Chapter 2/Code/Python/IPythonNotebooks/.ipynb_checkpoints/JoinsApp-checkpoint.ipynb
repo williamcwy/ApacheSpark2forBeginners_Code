{
 "cells": [
  {
   "cell_type": "markdown",
   "metadata": {},
   "source": [
    "# Joins App\n",
    "* The following program creates the RDD from lists \n",
    "* The first list contains a retail banking master records summary with Account Number, First Name, Last Name\n",
    "* The second list contains the retail banking transactions with Account Number, Balance Amount\n",
    "* The RDD is created from the parallelized collection from the above two lists\n",
    "* The two RDDs are joined on the account number"
   ]
  },
  {
   "cell_type": "markdown",
   "metadata": {},
   "source": [
    "# Use Case\n",
    "* Two different data sets are available\n",
    "* One contains the master account details such as account number, first name and last name\n",
    "* The other contains the account balance details such as account number and balance\n",
    "* Join the two data sets and create one data set containing account number, first name, last name and balance\n",
    "* From the list containing Account Number, Name and Account Balance get the one that has the highest Account Balance\n",
    "* From the list containing Account Number, Name and Account Balance get the top three having the highest Account Balance\n",
    "* Count the number of balance transaction records at an account level\n",
    "* Count the total number of balance transaction records\n",
    "* Print the Name and  Account Balance of all the accounts.\n",
    "* Calculate the total of the Account Balance"
   ]
  },
  {
   "cell_type": "code",
   "execution_count": 1,
   "metadata": {
    "collapsed": true
   },
   "outputs": [],
   "source": [
    "# Creation of the list from where the RDD is going to be created\n",
    "acMasterList = [\"SB10001,Roger,Federer\", \"SB10002,Pete,Sampras\", \"SB10003,Rafel,Nadal\", \"SB10004,Boris,Becker\", \"SB10005,Ivan,Lendl\"]\n",
    "# Creation of the list from where the RDD is going to be created\n",
    "acBalList = [\"SB10001,50000\", \"SB10002,12000\", \"SB10003,3000\", \"SB10004,8500\", \"SB10005,5000\"]\n",
    "# Create the RDD\n",
    "acMasterRDD = sc.parallelize(acMasterList)\n",
    "# Create the RDD\n",
    "acBalRDD = sc.parallelize(acBalList)"
   ]
  },
  {
   "cell_type": "code",
   "execution_count": 2,
   "metadata": {
    "collapsed": false
   },
   "outputs": [
    {
     "data": {
      "text/plain": [
       "['SB10001,Roger,Federer',\n",
       " 'SB10002,Pete,Sampras',\n",
       " 'SB10003,Rafel,Nadal',\n",
       " 'SB10004,Boris,Becker',\n",
       " 'SB10005,Ivan,Lendl']"
      ]
     },
     "execution_count": 2,
     "metadata": {},
     "output_type": "execute_result"
    }
   ],
   "source": [
    "# Collect the values to the driver program\n",
    "acMasterRDD.collect()"
   ]
  },
  {
   "cell_type": "code",
   "execution_count": 3,
   "metadata": {
    "collapsed": false
   },
   "outputs": [
    {
     "data": {
      "text/plain": [
       "['SB10001,50000',\n",
       " 'SB10002,12000',\n",
       " 'SB10003,3000',\n",
       " 'SB10004,8500',\n",
       " 'SB10005,5000']"
      ]
     },
     "execution_count": 3,
     "metadata": {},
     "output_type": "execute_result"
    }
   ],
   "source": [
    "# Collect the values to the driver program\n",
    "acBalRDD.collect()"
   ]
  },
  {
   "cell_type": "code",
   "execution_count": 4,
   "metadata": {
    "collapsed": false
   },
   "outputs": [],
   "source": [
    "# Create account master tuples\n",
    "acMasterTuples = acMasterRDD.map(lambda master: master.split(\",\")).map(lambda masterList: (masterList[0], masterList[1] + \" \" + masterList[2]))\n",
    "# Create balance tuples\n",
    "acBalTuples = acBalRDD.map(lambda trans: trans.split(\",\")).map(lambda transList: (transList[0], transList[1]))"
   ]
  },
  {
   "cell_type": "code",
   "execution_count": 5,
   "metadata": {
    "collapsed": false
   },
   "outputs": [
    {
     "data": {
      "text/plain": [
       "[('SB10001', 'Roger Federer'),\n",
       " ('SB10002', 'Pete Sampras'),\n",
       " ('SB10003', 'Rafel Nadal'),\n",
       " ('SB10004', 'Boris Becker'),\n",
       " ('SB10005', 'Ivan Lendl')]"
      ]
     },
     "execution_count": 5,
     "metadata": {},
     "output_type": "execute_result"
    }
   ],
   "source": [
    "# Collect the values to the driver program\n",
    "acMasterTuples.collect()"
   ]
  },
  {
   "cell_type": "code",
   "execution_count": 6,
   "metadata": {
    "collapsed": false
   },
   "outputs": [
    {
     "data": {
      "text/plain": [
       "[('SB10001', '50000'),\n",
       " ('SB10002', '12000'),\n",
       " ('SB10003', '3000'),\n",
       " ('SB10004', '8500'),\n",
       " ('SB10005', '5000')]"
      ]
     },
     "execution_count": 6,
     "metadata": {},
     "output_type": "execute_result"
    }
   ],
   "source": [
    "# Collect the values to the driver program\n",
    "acBalTuples.collect()"
   ]
  },
  {
   "cell_type": "code",
   "execution_count": 7,
   "metadata": {
    "collapsed": false
   },
   "outputs": [],
   "source": [
    "# Join the tuples\n",
    "acJoinTuples = acMasterTuples.join(acBalTuples).sortByKey().map(lambda tran: (tran[0], tran[1][0],tran[1][1]))"
   ]
  },
  {
   "cell_type": "code",
   "execution_count": 8,
   "metadata": {
    "collapsed": false
   },
   "outputs": [
    {
     "data": {
      "text/plain": [
       "[('SB10001', 'Roger Federer', '50000'),\n",
       " ('SB10002', 'Pete Sampras', '12000'),\n",
       " ('SB10003', 'Rafel Nadal', '3000'),\n",
       " ('SB10004', 'Boris Becker', '8500'),\n",
       " ('SB10005', 'Ivan Lendl', '5000')]"
      ]
     },
     "execution_count": 8,
     "metadata": {},
     "output_type": "execute_result"
    }
   ],
   "source": [
    "# Collect the values to the driver program\n",
    "acJoinTuples.collect()"
   ]
  },
  {
   "cell_type": "code",
   "execution_count": 9,
   "metadata": {
    "collapsed": false
   },
   "outputs": [],
   "source": [
    "# Find the account name and balance\n",
    "acNameAndBalance = acJoinTuples.map(lambda tran: (tran[1],tran[2]))"
   ]
  },
  {
   "cell_type": "code",
   "execution_count": 10,
   "metadata": {
    "collapsed": false
   },
   "outputs": [
    {
     "data": {
      "text/plain": [
       "[('Roger Federer', '50000'),\n",
       " ('Pete Sampras', '12000'),\n",
       " ('Rafel Nadal', '3000'),\n",
       " ('Boris Becker', '8500'),\n",
       " ('Ivan Lendl', '5000')]"
      ]
     },
     "execution_count": 10,
     "metadata": {},
     "output_type": "execute_result"
    }
   ],
   "source": [
    "# Collect the values to the driver program\n",
    "acNameAndBalance.collect()"
   ]
  },
  {
   "cell_type": "code",
   "execution_count": 11,
   "metadata": {
    "collapsed": true
   },
   "outputs": [],
   "source": [
    "from decimal import Decimal\n",
    "# Find the account tuples sorted by amount\n",
    "acTuplesByAmount = acBalTuples.map(lambda tran: (Decimal(tran[1]), tran[0])).sortByKey(False)"
   ]
  },
  {
   "cell_type": "code",
   "execution_count": 12,
   "metadata": {
    "collapsed": false
   },
   "outputs": [
    {
     "data": {
      "text/plain": [
       "[(Decimal('50000'), 'SB10001'),\n",
       " (Decimal('12000'), 'SB10002'),\n",
       " (Decimal('8500'), 'SB10004'),\n",
       " (Decimal('5000'), 'SB10005'),\n",
       " (Decimal('3000'), 'SB10003')]"
      ]
     },
     "execution_count": 12,
     "metadata": {},
     "output_type": "execute_result"
    }
   ],
   "source": [
    "# Collect the values to the driver program\n",
    "acTuplesByAmount.collect()"
   ]
  },
  {
   "cell_type": "code",
   "execution_count": 13,
   "metadata": {
    "collapsed": false
   },
   "outputs": [
    {
     "data": {
      "text/plain": [
       "(Decimal('50000'), 'SB10001')"
      ]
     },
     "execution_count": 13,
     "metadata": {},
     "output_type": "execute_result"
    }
   ],
   "source": [
    "# Get the top element\n",
    "acTuplesByAmount.first()"
   ]
  },
  {
   "cell_type": "code",
   "execution_count": 14,
   "metadata": {
    "collapsed": false
   },
   "outputs": [
    {
     "data": {
      "text/plain": [
       "[(Decimal('50000'), 'SB10001'),\n",
       " (Decimal('12000'), 'SB10002'),\n",
       " (Decimal('8500'), 'SB10004')]"
      ]
     },
     "execution_count": 14,
     "metadata": {},
     "output_type": "execute_result"
    }
   ],
   "source": [
    "# Get the top 3 elements\n",
    "acTuplesByAmount.take(3)"
   ]
  },
  {
   "cell_type": "code",
   "execution_count": 15,
   "metadata": {
    "collapsed": false
   },
   "outputs": [
    {
     "data": {
      "text/plain": [
       "defaultdict(int,\n",
       "            {'SB10001': 1,\n",
       "             'SB10002': 1,\n",
       "             'SB10003': 1,\n",
       "             'SB10004': 1,\n",
       "             'SB10005': 1})"
      ]
     },
     "execution_count": 15,
     "metadata": {},
     "output_type": "execute_result"
    }
   ],
   "source": [
    "# Count by the key\n",
    "acBalTuples.countByKey()"
   ]
  },
  {
   "cell_type": "code",
   "execution_count": 16,
   "metadata": {
    "collapsed": false
   },
   "outputs": [
    {
     "data": {
      "text/plain": [
       "5"
      ]
     },
     "execution_count": 16,
     "metadata": {},
     "output_type": "execute_result"
    }
   ],
   "source": [
    "# Count all the records\n",
    "acBalTuples.count()"
   ]
  },
  {
   "cell_type": "code",
   "execution_count": 17,
   "metadata": {
    "collapsed": false
   },
   "outputs": [],
   "source": [
    "# Print the contents of the account name and balance RDD\n",
    "acNameAndBalance.foreach(print)"
   ]
  },
  {
   "cell_type": "code",
   "execution_count": 18,
   "metadata": {
    "collapsed": false
   },
   "outputs": [
    {
     "data": {
      "text/plain": [
       "0.0"
      ]
     },
     "execution_count": 18,
     "metadata": {},
     "output_type": "execute_result"
    }
   ],
   "source": [
    "# Find the balance total using accumulator\n",
    "balanceTotal = sc.accumulator(0.0)\n",
    "balanceTotal.value"
   ]
  },
  {
   "cell_type": "code",
   "execution_count": 19,
   "metadata": {
    "collapsed": false
   },
   "outputs": [],
   "source": [
    "# Do the summation\n",
    "acBalTuples.foreach(lambda bals: balanceTotal.add(float(bals[1])))"
   ]
  },
  {
   "cell_type": "code",
   "execution_count": 20,
   "metadata": {
    "collapsed": false
   },
   "outputs": [
    {
     "data": {
      "text/plain": [
       "78500.0"
      ]
     },
     "execution_count": 20,
     "metadata": {},
     "output_type": "execute_result"
    }
   ],
   "source": [
    "# Print the results\n",
    "balanceTotal.value"
   ]
  },
  {
   "cell_type": "code",
   "execution_count": null,
   "metadata": {
    "collapsed": true
   },
   "outputs": [],
   "source": []
  }
 ],
 "metadata": {
  "kernelspec": {
   "display_name": "Python 3",
   "language": "python",
   "name": "python3"
  },
  "language_info": {
   "codemirror_mode": {
    "name": "ipython",
    "version": 3
   },
   "file_extension": ".py",
   "mimetype": "text/x-python",
   "name": "python",
   "nbconvert_exporter": "python",
   "pygments_lexer": "ipython3",
   "version": "3.5.0"
  }
 },
 "nbformat": 4,
 "nbformat_minor": 0
}
