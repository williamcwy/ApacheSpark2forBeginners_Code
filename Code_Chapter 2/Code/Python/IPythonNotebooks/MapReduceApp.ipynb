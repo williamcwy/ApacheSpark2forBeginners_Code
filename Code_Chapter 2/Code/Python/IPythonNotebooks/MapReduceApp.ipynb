{
 "cells": [
  {
   "cell_type": "markdown",
   "metadata": {},
   "source": [
    "# MapReduce App\n",
    "* The following program creates the RDD from a list \n",
    "* The list contains a retail banking transaction records summary with Account Number, Balance Amount\n",
    "* The RDD is created from the parallelized collection\n",
    "* The RDD can be sliced and diced the way we want to demonstrate one MapReduce usecase"
   ]
  },
  {
   "cell_type": "markdown",
   "metadata": {},
   "source": [
    "# Use Cases\n",
    "* Find all the records that came in\n",
    "* Pair the accounts to have key/value pairs such as (AccNo, TranAmount)\n",
    "* Find an account level summary of all the transactions to get the account balance"
   ]
  },
  {
   "cell_type": "code",
   "execution_count": 1,
   "metadata": {
    "collapsed": false
   },
   "outputs": [],
   "source": [
    "from decimal import Decimal\n",
    "# Creation of the list from where the RDD is going to be created\n",
    "acTransList = [\"SB10001,1000\", \"SB10002,1200\", \"SB10001,8000\", \"SB10002,400\", \"SB10003,300\", \"SB10001,10000\", \"SB10004,500\", \"SB10005,56\", \"SB10003,30\",\"SB10002,7000\", \"SB10001,-100\", \"SB10002,-10\"]\n",
    "# Create the RDD\n",
    "acTransRDD = sc.parallelize(acTransList)\n",
    "# Create the RDD containing key value pairs by doing mapping operation\n",
    "acKeyVal = acTransRDD.map(lambda trans: (trans.split(\",\")[0],Decimal(trans.split(\",\")[1])))\n",
    "# Create the RDD by reducing key value pairs by doing applying sum operation to the values\n",
    "accSummary = acKeyVal.reduceByKey(lambda a,b : a+b).sortByKey()\n"
   ]
  },
  {
   "cell_type": "code",
   "execution_count": 2,
   "metadata": {
    "collapsed": false
   },
   "outputs": [
    {
     "data": {
      "text/plain": [
       "[('SB10001', Decimal('18900')),\n",
       " ('SB10002', Decimal('8590')),\n",
       " ('SB10003', Decimal('330')),\n",
       " ('SB10004', Decimal('500')),\n",
       " ('SB10005', Decimal('56'))]"
      ]
     },
     "execution_count": 2,
     "metadata": {},
     "output_type": "execute_result"
    }
   ],
   "source": [
    "# Collect the values from the RDDs to the driver program\n",
    "accSummary.collect()"
   ]
  },
  {
   "cell_type": "code",
   "execution_count": null,
   "metadata": {
    "collapsed": true
   },
   "outputs": [],
   "source": []
  }
 ],
 "metadata": {
  "kernelspec": {
   "display_name": "Python 3",
   "language": "python",
   "name": "python3"
  },
  "language_info": {
   "codemirror_mode": {
    "name": "ipython",
    "version": 3
   },
   "file_extension": ".py",
   "mimetype": "text/x-python",
   "name": "python",
   "nbconvert_exporter": "python",
   "pygments_lexer": "ipython3",
   "version": "3.5.0"
  }
 },
 "nbformat": 4,
 "nbformat_minor": 0
}
