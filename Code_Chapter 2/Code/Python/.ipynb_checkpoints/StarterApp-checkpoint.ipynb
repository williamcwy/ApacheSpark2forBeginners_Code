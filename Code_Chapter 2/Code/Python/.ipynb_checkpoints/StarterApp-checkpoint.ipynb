{
 "cells": [
  {
   "cell_type": "markdown",
   "metadata": {},
   "source": [
    "# Starter App\n",
    "* The following program creates the RDD from a list \n",
    "* The list contains a retail banking transaction records summary with Account Number, Balance Amount\n",
    "* The RDD is created from the parallelized collection\n",
    "* The RDD can be sliced and diced the way we want"
   ]
  },
  {
   "cell_type": "markdown",
   "metadata": {},
   "source": [
    "# Use Cases\n",
    "* Find all the records that came in\n",
    "* Filter out only the good records from the transaction records. The Account number should start with SB and the amount should be greater than 0\n",
    "* Find all the high value transaction records with the transaction amount greater than 1000\n",
    "* FInd all the transaction records where the Account numbers are bad\n",
    "* Find all the transaction records where the Amounts are less than or equal to zero\n",
    "* Find a combined list of all the bad transaction records\n",
    "* Find the sum of all the transaction amounts\n",
    "* Find the maximum of all the transaction mounts\n",
    "* Find the minimum of all the transaction amounts\n",
    "* Find all the good Account numbers"
   ]
  },
  {
   "cell_type": "code",
   "execution_count": 1,
   "metadata": {
    "collapsed": false
   },
   "outputs": [],
   "source": [
    "from decimal import Decimal\n",
    "acTransList = [\"SB10001,1000\", \"SB10002,1200\", \"SB10003,8000\", \"SB10004,400\", \"SB10005,300\", \"SB10006,10000\", \"SB10007,500\", \"SB10008,56\", \"SB10009,30\",\"SB10010,7000\", \"CR10001,7000\", \"SB10002,-10\"]\n",
    "acTransRDD = sc.parallelize(acTransList)\n",
    "\n",
    "goodTransRecords = acTransRDD.filter(lambda trans: Decimal(trans.split(\",\")[1]) > 0).filter(lambda trans: (trans.split(\",\")[0]).startswith('SB') == True)        \n",
    "highValueTransRecords = goodTransRecords.filter(lambda trans: Decimal(trans.split(\",\")[1]) > 1000)\n",
    "\n",
    "badAmountLambda = lambda trans: Decimal(trans.split(\",\")[1]) <= 0\n",
    "badAcNoLambda = lambda trans: (trans.split(\",\")[0]).startswith('SB') == False\n",
    "\n",
    "badAmountRecords = acTransRDD.filter(badAmountLambda)\n",
    "badAccountRecords = acTransRDD.filter(badAcNoLambda)\n",
    "badTransRecords  = badAmountRecords.union(badAccountRecords)\n",
    "\n"
   ]
  },
  {
   "cell_type": "code",
   "execution_count": 2,
   "metadata": {
    "collapsed": false
   },
   "outputs": [
    {
     "data": {
      "text/plain": [
       "['SB10001,1000',\n",
       " 'SB10002,1200',\n",
       " 'SB10003,8000',\n",
       " 'SB10004,400',\n",
       " 'SB10005,300',\n",
       " 'SB10006,10000',\n",
       " 'SB10007,500',\n",
       " 'SB10008,56',\n",
       " 'SB10009,30',\n",
       " 'SB10010,7000',\n",
       " 'CR10001,7000',\n",
       " 'SB10002,-10']"
      ]
     },
     "execution_count": 2,
     "metadata": {},
     "output_type": "execute_result"
    }
   ],
   "source": [
    "acTransRDD.collect()"
   ]
  },
  {
   "cell_type": "code",
   "execution_count": 3,
   "metadata": {
    "collapsed": false
   },
   "outputs": [
    {
     "data": {
      "text/plain": [
       "['SB10001,1000',\n",
       " 'SB10002,1200',\n",
       " 'SB10003,8000',\n",
       " 'SB10004,400',\n",
       " 'SB10005,300',\n",
       " 'SB10006,10000',\n",
       " 'SB10007,500',\n",
       " 'SB10008,56',\n",
       " 'SB10009,30',\n",
       " 'SB10010,7000']"
      ]
     },
     "execution_count": 3,
     "metadata": {},
     "output_type": "execute_result"
    }
   ],
   "source": [
    "goodTransRecords.collect()"
   ]
  },
  {
   "cell_type": "code",
   "execution_count": 4,
   "metadata": {
    "collapsed": false
   },
   "outputs": [
    {
     "data": {
      "text/plain": [
       "['SB10002,1200', 'SB10003,8000', 'SB10006,10000', 'SB10010,7000']"
      ]
     },
     "execution_count": 4,
     "metadata": {},
     "output_type": "execute_result"
    }
   ],
   "source": [
    "highValueTransRecords.collect()"
   ]
  },
  {
   "cell_type": "code",
   "execution_count": 5,
   "metadata": {
    "collapsed": false
   },
   "outputs": [
    {
     "data": {
      "text/plain": [
       "['CR10001,7000']"
      ]
     },
     "execution_count": 5,
     "metadata": {},
     "output_type": "execute_result"
    }
   ],
   "source": [
    "badAccountRecords.collect()"
   ]
  },
  {
   "cell_type": "code",
   "execution_count": 6,
   "metadata": {
    "collapsed": false
   },
   "outputs": [
    {
     "data": {
      "text/plain": [
       "['SB10002,-10']"
      ]
     },
     "execution_count": 6,
     "metadata": {},
     "output_type": "execute_result"
    }
   ],
   "source": [
    "badAmountRecords.collect()"
   ]
  },
  {
   "cell_type": "code",
   "execution_count": 7,
   "metadata": {
    "collapsed": false
   },
   "outputs": [
    {
     "data": {
      "text/plain": [
       "['SB10002,-10', 'CR10001,7000']"
      ]
     },
     "execution_count": 7,
     "metadata": {},
     "output_type": "execute_result"
    }
   ],
   "source": [
    "badTransRecords.collect()"
   ]
  },
  {
   "cell_type": "code",
   "execution_count": 8,
   "metadata": {
    "collapsed": true
   },
   "outputs": [],
   "source": [
    "sumAmount = goodTransRecords.map(lambda trans: Decimal(trans.split(\",\")[1])).reduce(lambda a,b : a+b)\n",
    "maxAmount = goodTransRecords.map(lambda trans: Decimal(trans.split(\",\")[1])).reduce(lambda a,b : a if a > b else b)\n",
    "minAmount = goodTransRecords.map(lambda trans: Decimal(trans.split(\",\")[1])).reduce(lambda a,b : a if a < b else b)\n",
    "combineAllElements = acTransRDD.flatMap(lambda trans: trans.split(\",\"))\n",
    "allGoodAccountNos = combineAllElements.filter(lambda trans: trans.startswith('SB') == True)"
   ]
  },
  {
   "cell_type": "code",
   "execution_count": 9,
   "metadata": {
    "collapsed": false
   },
   "outputs": [
    {
     "data": {
      "text/plain": [
       "Decimal('28486')"
      ]
     },
     "execution_count": 9,
     "metadata": {},
     "output_type": "execute_result"
    }
   ],
   "source": [
    "sumAmount"
   ]
  },
  {
   "cell_type": "code",
   "execution_count": 10,
   "metadata": {
    "collapsed": false
   },
   "outputs": [
    {
     "data": {
      "text/plain": [
       "Decimal('10000')"
      ]
     },
     "execution_count": 10,
     "metadata": {},
     "output_type": "execute_result"
    }
   ],
   "source": [
    "maxAmount"
   ]
  },
  {
   "cell_type": "code",
   "execution_count": 11,
   "metadata": {
    "collapsed": false
   },
   "outputs": [
    {
     "data": {
      "text/plain": [
       "Decimal('30')"
      ]
     },
     "execution_count": 11,
     "metadata": {},
     "output_type": "execute_result"
    }
   ],
   "source": [
    "minAmount"
   ]
  },
  {
   "cell_type": "code",
   "execution_count": 12,
   "metadata": {
    "collapsed": false
   },
   "outputs": [
    {
     "data": {
      "text/plain": [
       "['SB10001',\n",
       " '1000',\n",
       " 'SB10002',\n",
       " '1200',\n",
       " 'SB10003',\n",
       " '8000',\n",
       " 'SB10004',\n",
       " '400',\n",
       " 'SB10005',\n",
       " '300',\n",
       " 'SB10006',\n",
       " '10000',\n",
       " 'SB10007',\n",
       " '500',\n",
       " 'SB10008',\n",
       " '56',\n",
       " 'SB10009',\n",
       " '30',\n",
       " 'SB10010',\n",
       " '7000',\n",
       " 'CR10001',\n",
       " '7000',\n",
       " 'SB10002',\n",
       " '-10']"
      ]
     },
     "execution_count": 12,
     "metadata": {},
     "output_type": "execute_result"
    }
   ],
   "source": [
    "combineAllElements.collect()"
   ]
  },
  {
   "cell_type": "code",
   "execution_count": 13,
   "metadata": {
    "collapsed": false
   },
   "outputs": [
    {
     "data": {
      "text/plain": [
       "['SB10005',\n",
       " 'SB10006',\n",
       " 'SB10008',\n",
       " 'SB10002',\n",
       " 'SB10003',\n",
       " 'SB10009',\n",
       " 'SB10010',\n",
       " 'SB10004',\n",
       " 'SB10001',\n",
       " 'SB10007']"
      ]
     },
     "execution_count": 13,
     "metadata": {},
     "output_type": "execute_result"
    }
   ],
   "source": [
    "allGoodAccountNos.distinct().collect()"
   ]
  },
  {
   "cell_type": "code",
   "execution_count": null,
   "metadata": {
    "collapsed": true
   },
   "outputs": [],
   "source": []
  }
 ],
 "metadata": {
  "kernelspec": {
   "display_name": "Python 3",
   "language": "python",
   "name": "python3"
  },
  "language_info": {
   "codemirror_mode": {
    "name": "ipython",
    "version": 3
   },
   "file_extension": ".py",
   "mimetype": "text/x-python",
   "name": "python",
   "nbconvert_exporter": "python",
   "pygments_lexer": "ipython3",
   "version": "3.5.0"
  }
 },
 "nbformat": 4,
 "nbformat_minor": 0
}
